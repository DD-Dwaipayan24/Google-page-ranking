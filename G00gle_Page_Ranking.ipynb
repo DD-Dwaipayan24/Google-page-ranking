{
 "cells": [
  {
   "cell_type": "code",
   "execution_count": 1,
   "id": "9c86876c-a881-4d57-b30f-bd92a7291f05",
   "metadata": {},
   "outputs": [],
   "source": [
    "import numpy as np"
   ]
  },
  {
   "cell_type": "code",
   "execution_count": 2,
   "id": "dea523f7-280d-4ba6-b7b0-087fceb5f34c",
   "metadata": {},
   "outputs": [],
   "source": [
    "A = [[1,1,0],[1,0,0],[1,1,1]]\n",
    "A = np.array(A,dtype = float)"
   ]
  },
  {
   "cell_type": "code",
   "execution_count": 5,
   "id": "aec333d3-3fba-4149-bf29-109aaf759cba",
   "metadata": {},
   "outputs": [
    {
     "data": {
      "text/plain": [
       "[3.0, 2.0, 1.0]"
      ]
     },
     "execution_count": 5,
     "metadata": {},
     "output_type": "execute_result"
    }
   ],
   "source": [
    "s = []\n",
    "for i in range(len(A[0])):\n",
    "    s.append(np.sum(A[:,i]))\n",
    "s"
   ]
  },
  {
   "cell_type": "code",
   "execution_count": 7,
   "id": "e1cadd31-84e2-420c-bb89-c11967e0621a",
   "metadata": {},
   "outputs": [
    {
     "data": {
      "text/plain": [
       "array([[0.33333333, 0.5       , 0.        ],\n",
       "       [0.33333333, 0.        , 0.        ],\n",
       "       [0.33333333, 0.5       , 1.        ]])"
      ]
     },
     "execution_count": 7,
     "metadata": {},
     "output_type": "execute_result"
    }
   ],
   "source": [
    "M = np.empty(np.shape(A))\n",
    "for i in range(len(A[0])):\n",
    "    for j in range(len(A)):\n",
    "        M[j][i] = A[j][i]/s[i]\n",
    "M"
   ]
  },
  {
   "cell_type": "code",
   "execution_count": 9,
   "id": "e4143a41-3190-4215-884b-8c5130dada4a",
   "metadata": {},
   "outputs": [],
   "source": [
    "# Removing Dangling Node\n",
    "d = np.empty(np.shape(M))\n",
    "for i in range(len(d)):\n",
    "    for j in range(len(d[0])):\n",
    "        d[i][j] = 1/len(M)\n",
    "dm = (1-0.15)*M + 0.15*d"
   ]
  },
  {
   "cell_type": "code",
   "execution_count": 10,
   "id": "16a5fd98-b2cf-4c49-8245-8473e5286699",
   "metadata": {},
   "outputs": [
    {
     "data": {
      "text/plain": [
       "array([[0.33333333, 0.475     , 0.05      ],\n",
       "       [0.33333333, 0.05      , 0.05      ],\n",
       "       [0.33333333, 0.475     , 0.9       ]])"
      ]
     },
     "execution_count": 10,
     "metadata": {},
     "output_type": "execute_result"
    }
   ],
   "source": [
    "dm"
   ]
  },
  {
   "cell_type": "code",
   "execution_count": 11,
   "id": "92308603-3bc4-4816-aa7a-5dcf0a9505c0",
   "metadata": {},
   "outputs": [],
   "source": [
    "e_values  , e_vectors = np.linalg.eig(dm)"
   ]
  },
  {
   "cell_type": "code",
   "execution_count": 13,
   "id": "fd072a0c-e110-4737-98d1-9696c037bb76",
   "metadata": {},
   "outputs": [
    {
     "data": {
      "text/plain": [
       "array([0.14754318, 0.51994159, 0.6295454 ])"
      ]
     },
     "execution_count": 13,
     "metadata": {},
     "output_type": "execute_result"
    }
   ],
   "source": [
    "e_vectors[0]"
   ]
  }
 ],
 "metadata": {
  "kernelspec": {
   "display_name": "Python 3 (ipykernel)",
   "language": "python",
   "name": "python3"
  },
  "language_info": {
   "codemirror_mode": {
    "name": "ipython",
    "version": 3
   },
   "file_extension": ".py",
   "mimetype": "text/x-python",
   "name": "python",
   "nbconvert_exporter": "python",
   "pygments_lexer": "ipython3",
   "version": "3.10.12"
  }
 },
 "nbformat": 4,
 "nbformat_minor": 5
}
